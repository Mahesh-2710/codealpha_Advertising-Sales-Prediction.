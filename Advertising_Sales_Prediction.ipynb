import pandas as pd
from sklearn.model_selection import train_test_split
from sklearn.linear_model import LinearRegression
from sklearn.metrics import mean_squared_error, r2_score
import matplotlib.pyplot as plt
import re

df = pd.read_csv("Advertising.csv")
df.drop(columns=['Unnamed: 0'], inplace=True)

X = df.drop('Sales', axis=1)
y = df['Sales']

raw_input = input("Enter test size (e.g., 0.2 for 20%, 1.0 for 100%): ")
match = re.search(r"(\d*\.?\d+)", raw_input)
test_size = float(match.group(1)) if match else 0.2
test_size = min(max(test_size, 0.0), 1.0)

X_train,
X_test,
y_train,
y_test = train_test_split(X, y, test_size=test_size)

model = LinearRegression()
model.fit(X_train, y_train)
y_pred = model.predict(X_test)

print("R² Score:", r2_score(y_test, y_pred))
print("Mean Squared Error:", mean_squared_error(y_test, y_pred))

plt.scatter(y_test, y_pred, color='blue')
plt.plot([y_test.min(), y_test.max()], [y_test.min(), y_test.max()], 'k--')
plt.xlabel("Actual Sales")
plt.ylabel("Predicted Sales")
plt.title("Actual vs Predicted Sales")
plt.tight_layout()
plt.show()
